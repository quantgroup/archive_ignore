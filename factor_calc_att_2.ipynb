{
 "cells": [
  {
   "cell_type": "code",
   "execution_count": 224,
   "metadata": {},
   "outputs": [],
   "source": [
    "import pandas as pd\n",
    "import datetime"
   ]
  },
  {
   "cell_type": "code",
   "execution_count": 225,
   "metadata": {},
   "outputs": [],
   "source": [
    "est_data = pd.read_csv(\"C:/model_data/estimate_raw.csv\")"
   ]
  },
  {
   "cell_type": "code",
   "execution_count": 226,
   "metadata": {},
   "outputs": [],
   "source": [
    "est_data.drop('Unnamed: 0', inplace = True, axis = 1)"
   ]
  },
  {
   "cell_type": "code",
   "execution_count": 227,
   "metadata": {},
   "outputs": [],
   "source": [
    "# source_id and currency -> category for \n",
    "est_data['source_id'] = est_data['source_id'].astype('category')\n",
    "est_data['currency'] = est_data['currency'].astype('category')"
   ]
  },
  {
   "cell_type": "code",
   "execution_count": 228,
   "metadata": {},
   "outputs": [],
   "source": [
    "# now we need to convert estimate and period dates to dates\n",
    "est_data['period_date'] = pd.to_datetime(est_data['period_date'])\n",
    "est_data['estimate_date'] = pd.to_datetime(est_data['estimate_date'])"
   ]
  },
  {
   "cell_type": "code",
   "execution_count": 229,
   "metadata": {},
   "outputs": [],
   "source": [
    "#managed to reduce the mem usage by a third"
   ]
  },
  {
   "cell_type": "code",
   "execution_count": 230,
   "metadata": {},
   "outputs": [],
   "source": [
    "lag_tol = 90 # 90 days is the minimum lag tolerance\n",
    "\n",
    "max_est = (est_data\n",
    "               .groupby(['security_id', 'broker_id', 'period_date'])\n",
    "               ['estimate_date']\n",
    "               .max()\n",
    "          )\n",
    "\n",
    "min_est = (est_data\n",
    "               .groupby(['security_id', 'broker_id', 'period_date'])\n",
    "               ['estimate_date']\n",
    "               .min()\n",
    "          )\n",
    "\n",
    "lag_bool = (max_est - min_est).dt.days > lag_tol\n",
    "\n",
    "est_data = (\n",
    "    est_data\n",
    "    .join(lag_bool, \n",
    "          on = ['security_id', 'broker_id', 'period_date'],\n",
    "          rsuffix = '_in')\n",
    ")"
   ]
  },
  {
   "cell_type": "code",
   "execution_count": 231,
   "metadata": {},
   "outputs": [],
   "source": [
    "est_data = est_data[est_data.estimate_date_in == True]\n",
    "est_data.drop('estimate_date_in', axis = 1, inplace = True)"
   ]
  },
  {
   "cell_type": "code",
   "execution_count": 233,
   "metadata": {},
   "outputs": [],
   "source": [
    "est_data.sort_values(['security_id', 'broker_id', 'period_date', 'estimate_date'], inplace = True)"
   ]
  },
  {
   "cell_type": "code",
   "execution_count": 267,
   "metadata": {},
   "outputs": [],
   "source": [
    "# This just makes the time series daily between revision dates\n",
    "est_data_daily = (\n",
    "    est_data.head(3)\n",
    "    .set_index(['security_id', 'broker_id', 'period_date'])\n",
    "    .groupby(['security_id', 'broker_id', 'period_date'])\n",
    "    .apply(\n",
    "        lambda df: df.drop_duplicates('estimate_date')\n",
    "                     .set_index('estimate_date')\n",
    "                     .resample('D')\n",
    "                     .ffill()\n",
    "    )\n",
    ")"
   ]
  },
  {
   "cell_type": "code",
   "execution_count": 274,
   "metadata": {},
   "outputs": [
    {
     "data": {
      "text/plain": [
       "MultiIndex([(30064771087, -2084193872, '2020-08-31', '2019-08-20'),\n",
       "            (30064771087, -2084193872, '2020-08-31', '2019-08-21'),\n",
       "            (30064771087, -2084193872, '2020-08-31', '2019-08-22'),\n",
       "            (30064771087, -2084193872, '2020-08-31', '2019-08-23'),\n",
       "            (30064771087, -2084193872, '2020-08-31', '2019-08-24'),\n",
       "            (30064771087, -2084193872, '2020-08-31', '2019-08-25'),\n",
       "            (30064771087, -2084193872, '2020-08-31', '2019-08-26'),\n",
       "            (30064771087, -2084193872, '2020-08-31', '2019-08-27'),\n",
       "            (30064771087, -2084193872, '2020-08-31', '2019-08-28'),\n",
       "            (30064771087, -2084193872, '2020-08-31', '2019-08-29'),\n",
       "            ...\n",
       "            (30064771087, -2084193872, '2020-08-31', '2020-03-10'),\n",
       "            (30064771087, -2084193872, '2020-08-31', '2020-03-11'),\n",
       "            (30064771087, -2084193872, '2020-08-31', '2020-03-12'),\n",
       "            (30064771087, -2084193872, '2020-08-31', '2020-03-13'),\n",
       "            (30064771087, -2084193872, '2020-08-31', '2020-03-14'),\n",
       "            (30064771087, -2084193872, '2020-08-31', '2020-03-15'),\n",
       "            (30064771087, -2084193872, '2020-08-31', '2020-03-16'),\n",
       "            (30064771087, -2084193872, '2020-08-31', '2020-03-17'),\n",
       "            (30064771087, -2084193872, '2020-08-31', '2020-03-18'),\n",
       "            (30064771087, -2084193872, '2020-08-31', '2020-03-19')],\n",
       "           names=['security_id', 'broker_id', 'period_date', 'estimate_date'], length=213)"
      ]
     },
     "execution_count": 274,
     "metadata": {},
     "output_type": "execute_result"
    }
   ],
   "source": [
    "est_data_daily.index"
   ]
  },
  {
   "cell_type": "code",
   "execution_count": 286,
   "metadata": {},
   "outputs": [
    {
     "ename": "ValueError",
     "evalue": "The truth value of an array with more than one element is ambiguous. Use a.any() or a.all()",
     "output_type": "error",
     "traceback": [
      "\u001b[1;31m---------------------------------------------------------------------------\u001b[0m",
      "\u001b[1;31mValueError\u001b[0m                                Traceback (most recent call last)",
      "\u001b[1;32m<ipython-input-286-890ddc54503d>\u001b[0m in \u001b[0;36m<module>\u001b[1;34m\u001b[0m\n\u001b[0;32m      4\u001b[0m \u001b[1;31m# for a shifted timeseries\u001b[0m\u001b[1;33m\u001b[0m\u001b[1;33m\u001b[0m\u001b[1;33m\u001b[0m\u001b[0m\n\u001b[0;32m      5\u001b[0m \u001b[0mfill_value\u001b[0m \u001b[1;33m=\u001b[0m \u001b[1;33m[\u001b[0m\u001b[0mest_data_daily\u001b[0m\u001b[1;33m.\u001b[0m\u001b[0mvalue\u001b[0m\u001b[1;33m[\u001b[0m\u001b[1;33m-\u001b[0m\u001b[1;36m1\u001b[0m\u001b[1;33m]\u001b[0m\u001b[1;33m,\u001b[0m \u001b[0mest_data_daily\u001b[0m\u001b[1;33m.\u001b[0m\u001b[0mcurrency\u001b[0m\u001b[1;33m[\u001b[0m\u001b[1;33m-\u001b[0m\u001b[1;36m1\u001b[0m\u001b[1;33m]\u001b[0m\u001b[1;33m,\u001b[0m \u001b[0mest_data_daily\u001b[0m\u001b[1;33m.\u001b[0m\u001b[0msource_id\u001b[0m\u001b[1;33m[\u001b[0m\u001b[1;33m-\u001b[0m\u001b[1;36m1\u001b[0m\u001b[1;33m]\u001b[0m\u001b[1;33m]\u001b[0m\u001b[1;33m\u001b[0m\u001b[1;33m\u001b[0m\u001b[0m\n\u001b[1;32m----> 6\u001b[1;33m \u001b[0mest_daily_shift\u001b[0m \u001b[1;33m=\u001b[0m \u001b[0mest_data_daily\u001b[0m\u001b[1;33m.\u001b[0m\u001b[0mshift\u001b[0m\u001b[1;33m(\u001b[0m\u001b[0mperiods\u001b[0m \u001b[1;33m=\u001b[0m \u001b[1;33m-\u001b[0m\u001b[1;36m90\u001b[0m\u001b[1;33m,\u001b[0m \u001b[0mfill_value\u001b[0m \u001b[1;33m=\u001b[0m \u001b[0mfill_value\u001b[0m\u001b[1;33m)\u001b[0m\u001b[1;33m\u001b[0m\u001b[1;33m\u001b[0m\u001b[0m\n\u001b[0m\u001b[0;32m      7\u001b[0m \u001b[1;33m\u001b[0m\u001b[0m\n\u001b[0;32m      8\u001b[0m \u001b[0mest_daily_shift\u001b[0m\u001b[1;33m.\u001b[0m\u001b[0mvalue\u001b[0m\u001b[1;33m[\u001b[0m\u001b[0mest_daily_shift\u001b[0m\u001b[1;33m.\u001b[0m\u001b[0mvalue\u001b[0m\u001b[1;33m.\u001b[0m\u001b[0misna\u001b[0m\u001b[1;33m(\u001b[0m\u001b[1;33m)\u001b[0m\u001b[1;33m]\u001b[0m \u001b[1;33m=\u001b[0m \u001b[0mfill_value\u001b[0m\u001b[1;33m\u001b[0m\u001b[1;33m\u001b[0m\u001b[0m\n",
      "\u001b[1;32mC:\\Apps\\Python\\Python37\\lib\\site-packages\\pandas\\core\\frame.py\u001b[0m in \u001b[0;36mshift\u001b[1;34m(self, periods, freq, axis, fill_value)\u001b[0m\n\u001b[0;32m   4176\u001b[0m     \u001b[1;32mdef\u001b[0m \u001b[0mshift\u001b[0m\u001b[1;33m(\u001b[0m\u001b[0mself\u001b[0m\u001b[1;33m,\u001b[0m \u001b[0mperiods\u001b[0m\u001b[1;33m=\u001b[0m\u001b[1;36m1\u001b[0m\u001b[1;33m,\u001b[0m \u001b[0mfreq\u001b[0m\u001b[1;33m=\u001b[0m\u001b[1;32mNone\u001b[0m\u001b[1;33m,\u001b[0m \u001b[0maxis\u001b[0m\u001b[1;33m=\u001b[0m\u001b[1;36m0\u001b[0m\u001b[1;33m,\u001b[0m \u001b[0mfill_value\u001b[0m\u001b[1;33m=\u001b[0m\u001b[1;32mNone\u001b[0m\u001b[1;33m)\u001b[0m \u001b[1;33m->\u001b[0m \u001b[1;34m\"DataFrame\"\u001b[0m\u001b[1;33m:\u001b[0m\u001b[1;33m\u001b[0m\u001b[1;33m\u001b[0m\u001b[0m\n\u001b[0;32m   4177\u001b[0m         return super().shift(\n\u001b[1;32m-> 4178\u001b[1;33m             \u001b[0mperiods\u001b[0m\u001b[1;33m=\u001b[0m\u001b[0mperiods\u001b[0m\u001b[1;33m,\u001b[0m \u001b[0mfreq\u001b[0m\u001b[1;33m=\u001b[0m\u001b[0mfreq\u001b[0m\u001b[1;33m,\u001b[0m \u001b[0maxis\u001b[0m\u001b[1;33m=\u001b[0m\u001b[0maxis\u001b[0m\u001b[1;33m,\u001b[0m \u001b[0mfill_value\u001b[0m\u001b[1;33m=\u001b[0m\u001b[0mfill_value\u001b[0m\u001b[1;33m\u001b[0m\u001b[1;33m\u001b[0m\u001b[0m\n\u001b[0m\u001b[0;32m   4179\u001b[0m         )\n\u001b[0;32m   4180\u001b[0m \u001b[1;33m\u001b[0m\u001b[0m\n",
      "\u001b[1;32mC:\\Apps\\Python\\Python37\\lib\\site-packages\\pandas\\core\\generic.py\u001b[0m in \u001b[0;36mshift\u001b[1;34m(self, periods, freq, axis, fill_value)\u001b[0m\n\u001b[0;32m   9042\u001b[0m         \u001b[1;32mif\u001b[0m \u001b[0mfreq\u001b[0m \u001b[1;32mis\u001b[0m \u001b[1;32mNone\u001b[0m\u001b[1;33m:\u001b[0m\u001b[1;33m\u001b[0m\u001b[1;33m\u001b[0m\u001b[0m\n\u001b[0;32m   9043\u001b[0m             new_data = self._data.shift(\n\u001b[1;32m-> 9044\u001b[1;33m                 \u001b[0mperiods\u001b[0m\u001b[1;33m=\u001b[0m\u001b[0mperiods\u001b[0m\u001b[1;33m,\u001b[0m \u001b[0maxis\u001b[0m\u001b[1;33m=\u001b[0m\u001b[0mblock_axis\u001b[0m\u001b[1;33m,\u001b[0m \u001b[0mfill_value\u001b[0m\u001b[1;33m=\u001b[0m\u001b[0mfill_value\u001b[0m\u001b[1;33m\u001b[0m\u001b[1;33m\u001b[0m\u001b[0m\n\u001b[0m\u001b[0;32m   9045\u001b[0m             )\n\u001b[0;32m   9046\u001b[0m         \u001b[1;32melse\u001b[0m\u001b[1;33m:\u001b[0m\u001b[1;33m\u001b[0m\u001b[1;33m\u001b[0m\u001b[0m\n",
      "\u001b[1;32mC:\\Apps\\Python\\Python37\\lib\\site-packages\\pandas\\core\\internals\\managers.py\u001b[0m in \u001b[0;36mshift\u001b[1;34m(self, **kwargs)\u001b[0m\n\u001b[0;32m    571\u001b[0m \u001b[1;33m\u001b[0m\u001b[0m\n\u001b[0;32m    572\u001b[0m     \u001b[1;32mdef\u001b[0m \u001b[0mshift\u001b[0m\u001b[1;33m(\u001b[0m\u001b[0mself\u001b[0m\u001b[1;33m,\u001b[0m \u001b[1;33m**\u001b[0m\u001b[0mkwargs\u001b[0m\u001b[1;33m)\u001b[0m\u001b[1;33m:\u001b[0m\u001b[1;33m\u001b[0m\u001b[1;33m\u001b[0m\u001b[0m\n\u001b[1;32m--> 573\u001b[1;33m         \u001b[1;32mreturn\u001b[0m \u001b[0mself\u001b[0m\u001b[1;33m.\u001b[0m\u001b[0mapply\u001b[0m\u001b[1;33m(\u001b[0m\u001b[1;34m\"shift\"\u001b[0m\u001b[1;33m,\u001b[0m \u001b[1;33m**\u001b[0m\u001b[0mkwargs\u001b[0m\u001b[1;33m)\u001b[0m\u001b[1;33m\u001b[0m\u001b[1;33m\u001b[0m\u001b[0m\n\u001b[0m\u001b[0;32m    574\u001b[0m \u001b[1;33m\u001b[0m\u001b[0m\n\u001b[0;32m    575\u001b[0m     \u001b[1;32mdef\u001b[0m \u001b[0mfillna\u001b[0m\u001b[1;33m(\u001b[0m\u001b[0mself\u001b[0m\u001b[1;33m,\u001b[0m \u001b[1;33m**\u001b[0m\u001b[0mkwargs\u001b[0m\u001b[1;33m)\u001b[0m\u001b[1;33m:\u001b[0m\u001b[1;33m\u001b[0m\u001b[1;33m\u001b[0m\u001b[0m\n",
      "\u001b[1;32mC:\\Apps\\Python\\Python37\\lib\\site-packages\\pandas\\core\\internals\\managers.py\u001b[0m in \u001b[0;36mapply\u001b[1;34m(self, f, filter, **kwargs)\u001b[0m\n\u001b[0;32m    440\u001b[0m                 \u001b[0mapplied\u001b[0m \u001b[1;33m=\u001b[0m \u001b[0mb\u001b[0m\u001b[1;33m.\u001b[0m\u001b[0mapply\u001b[0m\u001b[1;33m(\u001b[0m\u001b[0mf\u001b[0m\u001b[1;33m,\u001b[0m \u001b[1;33m**\u001b[0m\u001b[0mkwargs\u001b[0m\u001b[1;33m)\u001b[0m\u001b[1;33m\u001b[0m\u001b[1;33m\u001b[0m\u001b[0m\n\u001b[0;32m    441\u001b[0m             \u001b[1;32melse\u001b[0m\u001b[1;33m:\u001b[0m\u001b[1;33m\u001b[0m\u001b[1;33m\u001b[0m\u001b[0m\n\u001b[1;32m--> 442\u001b[1;33m                 \u001b[0mapplied\u001b[0m \u001b[1;33m=\u001b[0m \u001b[0mgetattr\u001b[0m\u001b[1;33m(\u001b[0m\u001b[0mb\u001b[0m\u001b[1;33m,\u001b[0m \u001b[0mf\u001b[0m\u001b[1;33m)\u001b[0m\u001b[1;33m(\u001b[0m\u001b[1;33m**\u001b[0m\u001b[0mkwargs\u001b[0m\u001b[1;33m)\u001b[0m\u001b[1;33m\u001b[0m\u001b[1;33m\u001b[0m\u001b[0m\n\u001b[0m\u001b[0;32m    443\u001b[0m             \u001b[0mresult_blocks\u001b[0m \u001b[1;33m=\u001b[0m \u001b[0m_extend_blocks\u001b[0m\u001b[1;33m(\u001b[0m\u001b[0mapplied\u001b[0m\u001b[1;33m,\u001b[0m \u001b[0mresult_blocks\u001b[0m\u001b[1;33m)\u001b[0m\u001b[1;33m\u001b[0m\u001b[1;33m\u001b[0m\u001b[0m\n\u001b[0;32m    444\u001b[0m \u001b[1;33m\u001b[0m\u001b[0m\n",
      "\u001b[1;32mC:\\Apps\\Python\\Python37\\lib\\site-packages\\pandas\\core\\internals\\blocks.py\u001b[0m in \u001b[0;36mshift\u001b[1;34m(self, periods, axis, fill_value)\u001b[0m\n\u001b[0;32m   1908\u001b[0m         return [\n\u001b[0;32m   1909\u001b[0m             self.make_block_same_class(\n\u001b[1;32m-> 1910\u001b[1;33m                 \u001b[0mself\u001b[0m\u001b[1;33m.\u001b[0m\u001b[0mvalues\u001b[0m\u001b[1;33m.\u001b[0m\u001b[0mshift\u001b[0m\u001b[1;33m(\u001b[0m\u001b[0mperiods\u001b[0m\u001b[1;33m=\u001b[0m\u001b[0mperiods\u001b[0m\u001b[1;33m,\u001b[0m \u001b[0mfill_value\u001b[0m\u001b[1;33m=\u001b[0m\u001b[0mfill_value\u001b[0m\u001b[1;33m)\u001b[0m\u001b[1;33m,\u001b[0m\u001b[1;33m\u001b[0m\u001b[1;33m\u001b[0m\u001b[0m\n\u001b[0m\u001b[0;32m   1911\u001b[0m                 \u001b[0mplacement\u001b[0m\u001b[1;33m=\u001b[0m\u001b[0mself\u001b[0m\u001b[1;33m.\u001b[0m\u001b[0mmgr_locs\u001b[0m\u001b[1;33m,\u001b[0m\u001b[1;33m\u001b[0m\u001b[1;33m\u001b[0m\u001b[0m\n\u001b[0;32m   1912\u001b[0m                 \u001b[0mndim\u001b[0m\u001b[1;33m=\u001b[0m\u001b[0mself\u001b[0m\u001b[1;33m.\u001b[0m\u001b[0mndim\u001b[0m\u001b[1;33m,\u001b[0m\u001b[1;33m\u001b[0m\u001b[1;33m\u001b[0m\u001b[0m\n",
      "\u001b[1;32mC:\\Apps\\Python\\Python37\\lib\\site-packages\\pandas\\core\\arrays\\categorical.py\u001b[0m in \u001b[0;36mshift\u001b[1;34m(self, periods, fill_value)\u001b[0m\n\u001b[0;32m   1255\u001b[0m         \u001b[1;32mif\u001b[0m \u001b[0mnp\u001b[0m\u001b[1;33m.\u001b[0m\u001b[0mprod\u001b[0m\u001b[1;33m(\u001b[0m\u001b[0mcodes\u001b[0m\u001b[1;33m.\u001b[0m\u001b[0mshape\u001b[0m\u001b[1;33m)\u001b[0m \u001b[1;32mand\u001b[0m \u001b[1;33m(\u001b[0m\u001b[0mperiods\u001b[0m \u001b[1;33m!=\u001b[0m \u001b[1;36m0\u001b[0m\u001b[1;33m)\u001b[0m\u001b[1;33m:\u001b[0m\u001b[1;33m\u001b[0m\u001b[1;33m\u001b[0m\u001b[0m\n\u001b[0;32m   1256\u001b[0m             \u001b[0mcodes\u001b[0m \u001b[1;33m=\u001b[0m \u001b[0mnp\u001b[0m\u001b[1;33m.\u001b[0m\u001b[0mroll\u001b[0m\u001b[1;33m(\u001b[0m\u001b[0mcodes\u001b[0m\u001b[1;33m,\u001b[0m \u001b[0mensure_platform_int\u001b[0m\u001b[1;33m(\u001b[0m\u001b[0mperiods\u001b[0m\u001b[1;33m)\u001b[0m\u001b[1;33m,\u001b[0m \u001b[0maxis\u001b[0m\u001b[1;33m=\u001b[0m\u001b[1;36m0\u001b[0m\u001b[1;33m)\u001b[0m\u001b[1;33m\u001b[0m\u001b[1;33m\u001b[0m\u001b[0m\n\u001b[1;32m-> 1257\u001b[1;33m             \u001b[1;32mif\u001b[0m \u001b[0misna\u001b[0m\u001b[1;33m(\u001b[0m\u001b[0mfill_value\u001b[0m\u001b[1;33m)\u001b[0m\u001b[1;33m:\u001b[0m\u001b[1;33m\u001b[0m\u001b[1;33m\u001b[0m\u001b[0m\n\u001b[0m\u001b[0;32m   1258\u001b[0m                 \u001b[0mfill_value\u001b[0m \u001b[1;33m=\u001b[0m \u001b[1;33m-\u001b[0m\u001b[1;36m1\u001b[0m\u001b[1;33m\u001b[0m\u001b[1;33m\u001b[0m\u001b[0m\n\u001b[0;32m   1259\u001b[0m             \u001b[1;32melif\u001b[0m \u001b[0mfill_value\u001b[0m \u001b[1;32min\u001b[0m \u001b[0mself\u001b[0m\u001b[1;33m.\u001b[0m\u001b[0mcategories\u001b[0m\u001b[1;33m:\u001b[0m\u001b[1;33m\u001b[0m\u001b[1;33m\u001b[0m\u001b[0m\n",
      "\u001b[1;31mValueError\u001b[0m: The truth value of an array with more than one element is ambiguous. Use a.any() or a.all()"
     ]
    }
   ],
   "source": [
    "# We still need a lookahead function that determines whether there is an upward or downward \n",
    "# revision in the next 90 days, and then to shift the estimate date 90 days forward\n",
    "# on a copied data frame that can be outer joined back to the result\n",
    "# for a shifted timeseries\n",
    "fill_value = [est_data_daily.value[-1], est_data_daily.currency[-1], est_data_daily.source_id[-1]]\n",
    "est_daily_shift = est_data_daily.shift(periods = -90)\n",
    "\n",
    "# Now that we have shifted we will have NaN values that need to be assigned\n",
    "\n",
    "\n",
    "est_daily_shift.value[est_daily_shift.value.isna()] = fill_value\n",
    "est_daily_shift"
   ]
  },
  {
   "cell_type": "code",
   "execution_count": 282,
   "metadata": {},
   "outputs": [
    {
     "data": {
      "text/plain": [
       "security_id  broker_id    period_date  estimate_date\n",
       "30064771087  -2084193872  2020-08-31   2019-12-21      NaN\n",
       "                                       2019-12-22      NaN\n",
       "                                       2019-12-23      NaN\n",
       "                                       2019-12-24      NaN\n",
       "                                       2019-12-25      NaN\n",
       "                                       2019-12-26      NaN\n",
       "                                       2019-12-27      NaN\n",
       "                                       2019-12-28      NaN\n",
       "                                       2019-12-29      NaN\n",
       "                                       2019-12-30      NaN\n",
       "                                       2019-12-31      NaN\n",
       "                                       2020-01-01      NaN\n",
       "                                       2020-01-02      NaN\n",
       "                                       2020-01-03      NaN\n",
       "                                       2020-01-04      NaN\n",
       "                                       2020-01-05      NaN\n",
       "                                       2020-01-06      NaN\n",
       "                                       2020-01-07      NaN\n",
       "                                       2020-01-08      NaN\n",
       "                                       2020-01-09      NaN\n",
       "                                       2020-01-10      NaN\n",
       "                                       2020-01-11      NaN\n",
       "                                       2020-01-12      NaN\n",
       "                                       2020-01-13      NaN\n",
       "                                       2020-01-14      NaN\n",
       "                                       2020-01-15      NaN\n",
       "                                       2020-01-16      NaN\n",
       "                                       2020-01-17      NaN\n",
       "                                       2020-01-18      NaN\n",
       "                                       2020-01-19      NaN\n",
       "                                       2020-01-20      NaN\n",
       "                                       2020-01-21      NaN\n",
       "                                       2020-01-22      NaN\n",
       "                                       2020-01-23      NaN\n",
       "                                       2020-01-24      NaN\n",
       "                                       2020-01-25      NaN\n",
       "                                       2020-01-26      NaN\n",
       "                                       2020-01-27      NaN\n",
       "                                       2020-01-28      NaN\n",
       "                                       2020-01-29      NaN\n",
       "                                       2020-01-30      NaN\n",
       "                                       2020-01-31      NaN\n",
       "                                       2020-02-01      NaN\n",
       "                                       2020-02-02      NaN\n",
       "                                       2020-02-03      NaN\n",
       "                                       2020-02-04      NaN\n",
       "                                       2020-02-05      NaN\n",
       "                                       2020-02-06      NaN\n",
       "                                       2020-02-07      NaN\n",
       "                                       2020-02-08      NaN\n",
       "                                       2020-02-09      NaN\n",
       "                                       2020-02-10      NaN\n",
       "                                       2020-02-11      NaN\n",
       "                                       2020-02-12      NaN\n",
       "                                       2020-02-13      NaN\n",
       "                                       2020-02-14      NaN\n",
       "                                       2020-02-15      NaN\n",
       "                                       2020-02-16      NaN\n",
       "                                       2020-02-17      NaN\n",
       "                                       2020-02-18      NaN\n",
       "                                       2020-02-19      NaN\n",
       "                                       2020-02-20      NaN\n",
       "                                       2020-02-21      NaN\n",
       "                                       2020-02-22      NaN\n",
       "                                       2020-02-23      NaN\n",
       "                                       2020-02-24      NaN\n",
       "                                       2020-02-25      NaN\n",
       "                                       2020-02-26      NaN\n",
       "                                       2020-02-27      NaN\n",
       "                                       2020-02-28      NaN\n",
       "                                       2020-02-29      NaN\n",
       "                                       2020-03-01      NaN\n",
       "                                       2020-03-02      NaN\n",
       "                                       2020-03-03      NaN\n",
       "                                       2020-03-04      NaN\n",
       "                                       2020-03-05      NaN\n",
       "                                       2020-03-06      NaN\n",
       "                                       2020-03-07      NaN\n",
       "                                       2020-03-08      NaN\n",
       "                                       2020-03-09      NaN\n",
       "                                       2020-03-10      NaN\n",
       "                                       2020-03-11      NaN\n",
       "                                       2020-03-12      NaN\n",
       "                                       2020-03-13      NaN\n",
       "                                       2020-03-14      NaN\n",
       "                                       2020-03-15      NaN\n",
       "                                       2020-03-16      NaN\n",
       "                                       2020-03-17      NaN\n",
       "                                       2020-03-18      NaN\n",
       "                                       2020-03-19      NaN\n",
       "Name: value, dtype: float64"
      ]
     },
     "execution_count": 282,
     "metadata": {},
     "output_type": "execute_result"
    }
   ],
   "source": [
    "est_daily_shift.value[est_daily_shift.value.isna()]"
   ]
  },
  {
   "cell_type": "code",
   "execution_count": 199,
   "metadata": {},
   "outputs": [],
   "source": [
    "init = 1\n",
    "for gp_name, gp_df in est_data_daily.groupby(['security_id', 'broker_id', 'period_date']):\n",
    "    changes = (gp_df.value[lag_tol:]\n",
    "               .subtract(gp_df.value[:(-lag_tol)])\n",
    "               .rename('value_change')\n",
    "              )\n",
    "    if init == 1:\n",
    "        change_data_daily_right = pd.DataFrame(changes)\n",
    "        init = 0\n",
    "    else:\n",
    "        change_data_daily_right = pd.concat([change_data_daily_right, pd.DataFrame(changes)])\n"
   ]
  },
  {
   "cell_type": "code",
   "execution_count": 223,
   "metadata": {},
   "outputs": [
    {
     "data": {
      "text/plain": [
       "[1, 2]"
      ]
     },
     "execution_count": 223,
     "metadata": {},
     "output_type": "execute_result"
    }
   ],
   "source": [
    "X = [1, 2, 3]\n",
    "\n",
    "X[1:]\n",
    "X[:(-1)]\n",
    "\n",
    "# so this appears correct, but now I need it to persist for another 90 days... \n",
    "# not really sure what I am doing here..."
   ]
  }
 ],
 "metadata": {
  "kernelspec": {
   "display_name": "Python 3.7.7 64-bit",
   "language": "python",
   "name": "python37764bitdabd9e4a2d5d4040bc1170cd428d0e0e"
  },
  "language_info": {
   "codemirror_mode": {
    "name": "ipython",
    "version": 3
   },
   "file_extension": ".py",
   "mimetype": "text/x-python",
   "name": "python",
   "nbconvert_exporter": "python",
   "pygments_lexer": "ipython3",
   "version": "3.7.7"
  }
 },
 "nbformat": 4,
 "nbformat_minor": 4
}
