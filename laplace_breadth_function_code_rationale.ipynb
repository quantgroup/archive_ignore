{
 "cells": [
  {
   "cell_type": "code",
   "execution_count": 1,
   "metadata": {},
   "outputs": [],
   "source": [
    "import pandas as pd\n",
    "import datetime\n",
    "import matplotlib.pyplot as plt"
   ]
  },
  {
   "cell_type": "markdown",
   "metadata": {},
   "source": [
    "## What is estimate breadth?"
   ]
  },
  {
   "cell_type": "markdown",
   "metadata": {},
   "source": [
    "$\\textrm{estimate breadth} = \\frac{\\textrm{estimate upgrades - estimate downgrades}}{\\textrm{total number of estimates}}$"
   ]
  },
  {
   "cell_type": "markdown",
   "metadata": {},
   "source": [
    "## Why is it not sufficient on its own?"
   ]
  },
  {
   "cell_type": "markdown",
   "metadata": {},
   "source": [
    "Consider the case of the following 3 Amazon review histories for three sellers:\n",
    "    * 2/2 positive reviews. 100 % positive\n",
    "    * 9/10 positive reviews. 90 % positive \n",
    "    * 88/100 postiive reviews. 88% positive"
   ]
  },
  {
   "cell_type": "markdown",
   "metadata": {},
   "source": [
    "Clearly not all of the review histories are equal, and you would probably feel that seller number 3 is going to give you the best experience. But how do we incorporate this in mathematically?"
   ]
  },
  {
   "cell_type": "markdown",
   "metadata": {},
   "source": [
    "With a Bayesian prior obviously... With a uniform prior (i.e. one additional negative and positive review), we can retrieve a postierior that is closer to our real beliefs. Taking the first seller as an example:\n",
    "\n",
    "$$\\textrm{(Prior 1)     Bin} \\sim (\\hat{p} = \\frac{1}{2}, n = 2)$$\n",
    "$$\\textrm{(Prior 2)      Bin} \\sim (\\hat{p} = \\frac{2}{2}, n = 2)$$\n",
    "\n",
    "$$\\textrm{(Posterior)      Beta} \\sim (\\hat{\\alpha} = \\frac{3}{4}, \\hat{\\beta} = \\frac{1}{4})$$\n",
    "\n",
    "$$\\hat{\\mathbb{E}}[\\textrm{Success}_{\\textrm{post}}] = \\frac{\\frac{3}{4} + \\frac{1}{4}}{\\frac{3}{4}} = 75\\%$$\n",
    "\n",
    "Whereas it is $87.2\\%$ for seller 3."
   ]
  },
  {
   "cell_type": "markdown",
   "metadata": {},
   "source": [
    "Thats pretty neat. The true optimal solution is actually the center of mass for the beta PDF... but we do not want to do any hectic maths in the calculation, so this quick and dirty alternative will work great for us."
   ]
  },
  {
   "cell_type": "markdown",
   "metadata": {},
   "source": [
    "## Laplace breadth"
   ]
  },
  {
   "cell_type": "markdown",
   "metadata": {},
   "source": [
    "I propose we call it Laplace breadth because although pastor Bayes discovered the formula, he was a layman, and his work gained no notice until Laplace dragged it kicking and screaming into 20th century maths along with the rest of probability theory. And Laplace even proposed a similar thought experiment in his own writings."
   ]
  },
  {
   "cell_type": "markdown",
   "metadata": {},
   "source": [
    "The revised estimate breadth formula is:\n",
    "\n",
    "$$\\textrm{laplace breadth} = \\frac{(\\textrm{estimate upgrades} + 1) - (\\textrm{estimate downgrades} + 1)}{\\textrm{total estimates} + 2}$$\n",
    "\n",
    "$$\\textrm{laplace breadth} = \\frac{(\\textrm{estimate upgrades}) - (\\textrm{estimate downgrades})}{\\textrm{total estimates} + 2}$$"
   ]
  },
  {
   "cell_type": "code",
   "execution_count": 2,
   "metadata": {},
   "outputs": [],
   "source": [
    "est_data = pd.read_csv(\"C:/model_data/estimate_raw.csv\")"
   ]
  },
  {
   "cell_type": "code",
   "execution_count": 3,
   "metadata": {},
   "outputs": [
    {
     "data": {
      "text/plain": [
       "pandas.core.frame.DataFrame"
      ]
     },
     "execution_count": 3,
     "metadata": {},
     "output_type": "execute_result"
    }
   ],
   "source": [
    "type(est_data)"
   ]
  },
  {
   "cell_type": "code",
   "execution_count": 4,
   "metadata": {},
   "outputs": [
    {
     "data": {
      "text/html": [
       "<div>\n",
       "<style scoped>\n",
       "    .dataframe tbody tr th:only-of-type {\n",
       "        vertical-align: middle;\n",
       "    }\n",
       "\n",
       "    .dataframe tbody tr th {\n",
       "        vertical-align: top;\n",
       "    }\n",
       "\n",
       "    .dataframe thead th {\n",
       "        text-align: right;\n",
       "    }\n",
       "</style>\n",
       "<table border=\"1\" class=\"dataframe\">\n",
       "  <thead>\n",
       "    <tr style=\"text-align: right;\">\n",
       "      <th></th>\n",
       "      <th>Unnamed: 0</th>\n",
       "      <th>security_id</th>\n",
       "      <th>broker_id</th>\n",
       "      <th>period_date</th>\n",
       "      <th>estimate_date</th>\n",
       "      <th>value</th>\n",
       "      <th>currency</th>\n",
       "      <th>source_id</th>\n",
       "    </tr>\n",
       "  </thead>\n",
       "  <tbody>\n",
       "    <tr>\n",
       "      <th>0</th>\n",
       "      <td>0</td>\n",
       "      <td>30064875557</td>\n",
       "      <td>-1676276586</td>\n",
       "      <td>2018-12-31</td>\n",
       "      <td>2019-03-21</td>\n",
       "      <td>0.49000</td>\n",
       "      <td>CNY</td>\n",
       "      <td>ibes</td>\n",
       "    </tr>\n",
       "    <tr>\n",
       "      <th>1</th>\n",
       "      <td>1</td>\n",
       "      <td>30064875557</td>\n",
       "      <td>-1676276586</td>\n",
       "      <td>2019-12-31</td>\n",
       "      <td>2019-03-21</td>\n",
       "      <td>0.62000</td>\n",
       "      <td>CNY</td>\n",
       "      <td>ibes</td>\n",
       "    </tr>\n",
       "    <tr>\n",
       "      <th>2</th>\n",
       "      <td>2</td>\n",
       "      <td>30064875557</td>\n",
       "      <td>-1676276586</td>\n",
       "      <td>2020-12-31</td>\n",
       "      <td>2019-03-21</td>\n",
       "      <td>0.79000</td>\n",
       "      <td>CNY</td>\n",
       "      <td>ibes</td>\n",
       "    </tr>\n",
       "    <tr>\n",
       "      <th>3</th>\n",
       "      <td>3</td>\n",
       "      <td>30064799557</td>\n",
       "      <td>-705587338</td>\n",
       "      <td>2019-12-31</td>\n",
       "      <td>2019-03-21</td>\n",
       "      <td>0.52727</td>\n",
       "      <td>HKD</td>\n",
       "      <td>ibes</td>\n",
       "    </tr>\n",
       "    <tr>\n",
       "      <th>4</th>\n",
       "      <td>4</td>\n",
       "      <td>30064799557</td>\n",
       "      <td>-705587338</td>\n",
       "      <td>2020-12-31</td>\n",
       "      <td>2019-03-21</td>\n",
       "      <td>0.57273</td>\n",
       "      <td>HKD</td>\n",
       "      <td>ibes</td>\n",
       "    </tr>\n",
       "  </tbody>\n",
       "</table>\n",
       "</div>"
      ],
      "text/plain": [
       "   Unnamed: 0  security_id   broker_id period_date estimate_date    value  \\\n",
       "0           0  30064875557 -1676276586  2018-12-31    2019-03-21  0.49000   \n",
       "1           1  30064875557 -1676276586  2019-12-31    2019-03-21  0.62000   \n",
       "2           2  30064875557 -1676276586  2020-12-31    2019-03-21  0.79000   \n",
       "3           3  30064799557  -705587338  2019-12-31    2019-03-21  0.52727   \n",
       "4           4  30064799557  -705587338  2020-12-31    2019-03-21  0.57273   \n",
       "\n",
       "  currency source_id  \n",
       "0      CNY      ibes  \n",
       "1      CNY      ibes  \n",
       "2      CNY      ibes  \n",
       "3      HKD      ibes  \n",
       "4      HKD      ibes  "
      ]
     },
     "execution_count": 4,
     "metadata": {},
     "output_type": "execute_result"
    }
   ],
   "source": [
    "est_data.head()"
   ]
  },
  {
   "cell_type": "code",
   "execution_count": 5,
   "metadata": {},
   "outputs": [
    {
     "data": {
      "text/plain": [
       "Unnamed: 0         int64\n",
       "security_id        int64\n",
       "broker_id          int64\n",
       "period_date       object\n",
       "estimate_date     object\n",
       "value            float64\n",
       "currency          object\n",
       "source_id         object\n",
       "dtype: object"
      ]
     },
     "execution_count": 5,
     "metadata": {},
     "output_type": "execute_result"
    }
   ],
   "source": [
    "est_data.dtypes"
   ]
  },
  {
   "cell_type": "markdown",
   "metadata": {},
   "source": [
    "We need to change data columns to date types"
   ]
  },
  {
   "cell_type": "code",
   "execution_count": 6,
   "metadata": {},
   "outputs": [],
   "source": [
    "# would like to change the source_id column to a category to save memory\n",
    "est_data['source_id'] = est_data['source_id'].astype('category')"
   ]
  },
  {
   "cell_type": "code",
   "execution_count": 7,
   "metadata": {},
   "outputs": [],
   "source": [
    "est_data['period_date'] = pd.to_datetime(est_data['period_date'])\n",
    "est_data['estimate_date'] = pd.to_datetime(est_data['estimate_date'])"
   ]
  },
  {
   "cell_type": "code",
   "execution_count": 8,
   "metadata": {},
   "outputs": [
    {
     "data": {
      "text/plain": [
       "Unnamed: 0                int64\n",
       "security_id               int64\n",
       "broker_id                 int64\n",
       "period_date      datetime64[ns]\n",
       "estimate_date    datetime64[ns]\n",
       "value                   float64\n",
       "currency                 object\n",
       "source_id              category\n",
       "dtype: object"
      ]
     },
     "execution_count": 8,
     "metadata": {},
     "output_type": "execute_result"
    }
   ],
   "source": [
    "est_data.dtypes"
   ]
  },
  {
   "cell_type": "markdown",
   "metadata": {},
   "source": [
    "Now we need to check the date range... The estimate date refers to the date when the estimate was made and not the forward earnings date that is is applied to (Which is the period date)"
   ]
  },
  {
   "cell_type": "code",
   "execution_count": 9,
   "metadata": {},
   "outputs": [
    {
     "data": {
      "text/plain": [
       "Timestamp('2020-03-20 00:00:00')"
      ]
     },
     "execution_count": 9,
     "metadata": {},
     "output_type": "execute_result"
    }
   ],
   "source": [
    "max(est_data['estimate_date'])"
   ]
  },
  {
   "cell_type": "code",
   "execution_count": 10,
   "metadata": {},
   "outputs": [
    {
     "data": {
      "text/plain": [
       "Timestamp('2019-03-21 00:00:00')"
      ]
     },
     "execution_count": 10,
     "metadata": {},
     "output_type": "execute_result"
    }
   ],
   "source": [
    "min(est_data['estimate_date'])"
   ]
  },
  {
   "cell_type": "markdown",
   "metadata": {},
   "source": [
    "So for this working example we have a years worth of data...\n",
    "\n",
    "Now we can set the key to the four columns that together uniquely identify a row"
   ]
  },
  {
   "cell_type": "markdown",
   "metadata": {},
   "source": [
    "Now we need a change in estimates, so we need a before date, and a after date.\n",
    "\n",
    "Additionally we need a lag period - the minimum amount of time we are willing to tolerate between the start and the end of the revision. \n",
    "\n",
    "Where there are no before and after dates for the estimates subject to the lag period then those data points need to be discarded"
   ]
  },
  {
   "cell_type": "code",
   "execution_count": 1,
   "metadata": {},
   "outputs": [
    {
     "ename": "NameError",
     "evalue": "name 'est_data' is not defined",
     "output_type": "error",
     "traceback": [
      "\u001b[1;31m---------------------------------------------------------------------------\u001b[0m",
      "\u001b[1;31mNameError\u001b[0m                                 Traceback (most recent call last)",
      "\u001b[1;32m<ipython-input-1-80b6a37b86e5>\u001b[0m in \u001b[0;36m<module>\u001b[1;34m\u001b[0m\n\u001b[0;32m      3\u001b[0m \u001b[0mlag_tol\u001b[0m \u001b[1;33m=\u001b[0m \u001b[1;36m90\u001b[0m\u001b[1;33m\u001b[0m\u001b[1;33m\u001b[0m\u001b[0m\n\u001b[0;32m      4\u001b[0m \u001b[1;33m\u001b[0m\u001b[0m\n\u001b[1;32m----> 5\u001b[1;33m max_date = (est_data.groupby(['security_id', 'broker_id', 'period_date'])\n\u001b[0m\u001b[0;32m      6\u001b[0m      \u001b[1;33m[\u001b[0m\u001b[1;34m'estimate_date'\u001b[0m\u001b[1;33m]\u001b[0m\u001b[1;33m\u001b[0m\u001b[1;33m\u001b[0m\u001b[0m\n\u001b[0;32m      7\u001b[0m      \u001b[1;33m.\u001b[0m\u001b[0mmax\u001b[0m\u001b[1;33m(\u001b[0m\u001b[1;33m)\u001b[0m\u001b[1;33m\u001b[0m\u001b[1;33m\u001b[0m\u001b[0m\n",
      "\u001b[1;31mNameError\u001b[0m: name 'est_data' is not defined"
     ]
    }
   ],
   "source": [
    "# might be a potential boon to performance to sort then run these methods...\n",
    "\n",
    "lag_tol = 90\n",
    "\n",
    "max_date = (est_data.groupby(['security_id', 'broker_id', 'period_date'])\n",
    "     ['estimate_date']\n",
    "     .max()\n",
    ")\n",
    "min_date = (est_data.groupby(['security_id', 'broker_id', 'period_date'])\n",
    "     ['estimate_date']\n",
    "     .min()\n",
    ")\n",
    "lag_in = (max_date - min_date).dt.days > lag_tol\n",
    "lag_in"
   ]
  },
  {
   "cell_type": "code",
   "execution_count": 12,
   "metadata": {},
   "outputs": [],
   "source": [
    "est_data = (est_data\n",
    "               .join(\n",
    "                    lag_in, \n",
    "                    on = ['security_id', 'broker_id', 'period_date'],\n",
    "                    rsuffix = '_diff'\n",
    "               )\n",
    "           )"
   ]
  },
  {
   "cell_type": "code",
   "execution_count": 13,
   "metadata": {},
   "outputs": [],
   "source": [
    "est_data_revised = est_data[est_data.estimate_date_diff == True]"
   ]
  },
  {
   "cell_type": "markdown",
   "metadata": {},
   "source": [
    "Now we need to change the estimate date column to a daily index that we can swim through to record the number of upward and downward revisions...\n",
    "\n",
    "Be careful of memory issues when you do this..."
   ]
  },
  {
   "cell_type": "code",
   "execution_count": 14,
   "metadata": {},
   "outputs": [
    {
     "data": {
      "text/plain": [
       "<matplotlib.axes._subplots.AxesSubplot at 0x15b4a690348>"
      ]
     },
     "execution_count": 14,
     "metadata": {},
     "output_type": "execute_result"
    },
    {
     "data": {
      "image/png": "[encoded data removed]",
      "text/plain": [
       "<Figure size 432x288 with 1 Axes>"
      ]
     },
     "metadata": {
      "needs_background": "light"
     },
     "output_type": "display_data"
    }
   ],
   "source": [
    "fig, ax = plt.subplots(figsize = (6,4))\n",
    "\n",
    "(est_data_revised\n",
    "     ['estimate_date']\n",
    "     .dt.day_name()\n",
    "     .value_counts()\n",
    "     .plot.barh(title = 'day counts of estimate dates', ax  = ax)\n",
    ")\n",
    "# why are there Saturdays and Sundays in this thing? curious... Earnings season?\n",
    "# also, why are analysts so lazy on Fridays and Mondays?"
   ]
  },
  {
   "cell_type": "code",
   "execution_count": 15,
   "metadata": {},
   "outputs": [
    {
     "data": {
      "text/html": [
       "<div>\n",
       "<style scoped>\n",
       "    .dataframe tbody tr th:only-of-type {\n",
       "        vertical-align: middle;\n",
       "    }\n",
       "\n",
       "    .dataframe tbody tr th {\n",
       "        vertical-align: top;\n",
       "    }\n",
       "\n",
       "    .dataframe thead th {\n",
       "        text-align: right;\n",
       "    }\n",
       "</style>\n",
       "<table border=\"1\" class=\"dataframe\">\n",
       "  <thead>\n",
       "    <tr style=\"text-align: right;\">\n",
       "      <th>day</th>\n",
       "      <th>Friday</th>\n",
       "      <th>Monday</th>\n",
       "      <th>Saturday</th>\n",
       "      <th>Sunday</th>\n",
       "      <th>Thursday</th>\n",
       "      <th>Tuesday</th>\n",
       "      <th>Wednesday</th>\n",
       "    </tr>\n",
       "    <tr>\n",
       "      <th>estimate_date</th>\n",
       "      <th></th>\n",
       "      <th></th>\n",
       "      <th></th>\n",
       "      <th></th>\n",
       "      <th></th>\n",
       "      <th></th>\n",
       "      <th></th>\n",
       "    </tr>\n",
       "  </thead>\n",
       "  <tbody>\n",
       "    <tr>\n",
       "      <th>April</th>\n",
       "      <td>18542</td>\n",
       "      <td>28045</td>\n",
       "      <td>896</td>\n",
       "      <td>2829</td>\n",
       "      <td>24589</td>\n",
       "      <td>30593</td>\n",
       "      <td>24002</td>\n",
       "    </tr>\n",
       "    <tr>\n",
       "      <th>August</th>\n",
       "      <td>35409</td>\n",
       "      <td>21617</td>\n",
       "      <td>1894</td>\n",
       "      <td>2960</td>\n",
       "      <td>39298</td>\n",
       "      <td>24506</td>\n",
       "      <td>26739</td>\n",
       "    </tr>\n",
       "    <tr>\n",
       "      <th>December</th>\n",
       "      <td>7842</td>\n",
       "      <td>13537</td>\n",
       "      <td>429</td>\n",
       "      <td>3507</td>\n",
       "      <td>10537</td>\n",
       "      <td>11569</td>\n",
       "      <td>11159</td>\n",
       "    </tr>\n",
       "    <tr>\n",
       "      <th>February</th>\n",
       "      <td>22618</td>\n",
       "      <td>20611</td>\n",
       "      <td>2617</td>\n",
       "      <td>4382</td>\n",
       "      <td>26684</td>\n",
       "      <td>22402</td>\n",
       "      <td>24392</td>\n",
       "    </tr>\n",
       "    <tr>\n",
       "      <th>January</th>\n",
       "      <td>21344</td>\n",
       "      <td>21634</td>\n",
       "      <td>868</td>\n",
       "      <td>3491</td>\n",
       "      <td>23681</td>\n",
       "      <td>22147</td>\n",
       "      <td>22409</td>\n",
       "    </tr>\n",
       "    <tr>\n",
       "      <th>July</th>\n",
       "      <td>21678</td>\n",
       "      <td>28342</td>\n",
       "      <td>1092</td>\n",
       "      <td>2768</td>\n",
       "      <td>24641</td>\n",
       "      <td>29450</td>\n",
       "      <td>33049</td>\n",
       "    </tr>\n",
       "    <tr>\n",
       "      <th>June</th>\n",
       "      <td>10022</td>\n",
       "      <td>13348</td>\n",
       "      <td>559</td>\n",
       "      <td>2370</td>\n",
       "      <td>11910</td>\n",
       "      <td>12581</td>\n",
       "      <td>12832</td>\n",
       "    </tr>\n",
       "    <tr>\n",
       "      <th>March</th>\n",
       "      <td>18557</td>\n",
       "      <td>19553</td>\n",
       "      <td>852</td>\n",
       "      <td>4155</td>\n",
       "      <td>18389</td>\n",
       "      <td>18451</td>\n",
       "      <td>18735</td>\n",
       "    </tr>\n",
       "    <tr>\n",
       "      <th>May</th>\n",
       "      <td>27269</td>\n",
       "      <td>19788</td>\n",
       "      <td>1741</td>\n",
       "      <td>2683</td>\n",
       "      <td>34012</td>\n",
       "      <td>23665</td>\n",
       "      <td>31924</td>\n",
       "    </tr>\n",
       "    <tr>\n",
       "      <th>November</th>\n",
       "      <td>32495</td>\n",
       "      <td>25260</td>\n",
       "      <td>1439</td>\n",
       "      <td>4693</td>\n",
       "      <td>25650</td>\n",
       "      <td>25169</td>\n",
       "      <td>26414</td>\n",
       "    </tr>\n",
       "    <tr>\n",
       "      <th>October</th>\n",
       "      <td>23622</td>\n",
       "      <td>24468</td>\n",
       "      <td>989</td>\n",
       "      <td>4256</td>\n",
       "      <td>38946</td>\n",
       "      <td>31053</td>\n",
       "      <td>33246</td>\n",
       "    </tr>\n",
       "    <tr>\n",
       "      <th>September</th>\n",
       "      <td>11067</td>\n",
       "      <td>16779</td>\n",
       "      <td>490</td>\n",
       "      <td>2944</td>\n",
       "      <td>13623</td>\n",
       "      <td>13110</td>\n",
       "      <td>13026</td>\n",
       "    </tr>\n",
       "  </tbody>\n",
       "</table>\n",
       "</div>"
      ],
      "text/plain": [
       "day            Friday  Monday  Saturday  Sunday  Thursday  Tuesday  Wednesday\n",
       "estimate_date                                                                \n",
       "April           18542   28045       896    2829     24589    30593      24002\n",
       "August          35409   21617      1894    2960     39298    24506      26739\n",
       "December         7842   13537       429    3507     10537    11569      11159\n",
       "February        22618   20611      2617    4382     26684    22402      24392\n",
       "January         21344   21634       868    3491     23681    22147      22409\n",
       "July            21678   28342      1092    2768     24641    29450      33049\n",
       "June            10022   13348       559    2370     11910    12581      12832\n",
       "March           18557   19553       852    4155     18389    18451      18735\n",
       "May             27269   19788      1741    2683     34012    23665      31924\n",
       "November        32495   25260      1439    4693     25650    25169      26414\n",
       "October         23622   24468       989    4256     38946    31053      33246\n",
       "September       11067   16779       490    2944     13623    13110      13026"
      ]
     },
     "execution_count": 15,
     "metadata": {},
     "output_type": "execute_result"
    }
   ],
   "source": [
    "(est_data_revised\n",
    "    .groupby([est_data_revised['estimate_date'].dt.month_name()\n",
    "             , est_data_revised['estimate_date'].dt.day_name().rename('day')])\n",
    "    .size()\n",
    "    .unstack('day')\n",
    ")\n",
    "# so it does look like an earnings season thing...\n",
    "# but also - how cool is this functionality :) would do a heatmap if I wasn't working"
   ]
  },
  {
   "cell_type": "markdown",
   "metadata": {},
   "source": [
    "Upsampling could lead to some serious memory issues... Not sure how to combat this?\n",
    "\n",
    "Perhaps try reduce the memory of the data frame first so that all non essentials\n",
    "such as the final three columns can be dealt with...\n",
    "\n",
    "The above code just makes a resampler object that is intended for calculation, thts wh I propose "
   ]
  },
  {
   "cell_type": "code",
   "execution_count": 16,
   "metadata": {},
   "outputs": [
    {
     "name": "stderr",
     "output_type": "stream",
     "text": [
      "C:\\Apps\\Python\\Python37\\lib\\site-packages\\pandas\\core\\frame.py:3997: SettingWithCopyWarning: \n",
      "A value is trying to be set on a copy of a slice from a DataFrame\n",
      "\n",
      "See the caveats in the documentation: https://pandas.pydata.org/pandas-docs/stable/user_guide/indexing.html#returning-a-view-versus-a-copy\n",
      "  errors=errors,\n"
     ]
    }
   ],
   "source": [
    "est_data_revised.drop(['currency', 'Unnamed: 0', 'source_id', 'estimate_date_diff'], axis = 1, inplace = True)"
   ]
  },
  {
   "cell_type": "code",
   "execution_count": 17,
   "metadata": {},
   "outputs": [
    {
     "name": "stderr",
     "output_type": "stream",
     "text": [
      "C:\\Apps\\Python\\Python37\\lib\\site-packages\\ipykernel_launcher.py:1: SettingWithCopyWarning: \n",
      "A value is trying to be set on a copy of a slice from a DataFrame\n",
      "\n",
      "See the caveats in the documentation: https://pandas.pydata.org/pandas-docs/stable/user_guide/indexing.html#returning-a-view-versus-a-copy\n",
      "  \"\"\"Entry point for launching an IPython kernel.\n"
     ]
    }
   ],
   "source": [
    "est_data_revised.sort_values(['security_id', 'broker_id', 'period_date'], inplace = True)"
   ]
  },
  {
   "cell_type": "code",
   "execution_count": 18,
   "metadata": {},
   "outputs": [
    {
     "data": {
      "text/plain": [
       "(1392934, 5)"
      ]
     },
     "execution_count": 18,
     "metadata": {},
     "output_type": "execute_result"
    }
   ],
   "source": [
    "est_data_revised.shape"
   ]
  },
  {
   "cell_type": "markdown",
   "metadata": {},
   "source": [
    "The below takes about 26  minutes to run... but I don't care... for now :)"
   ]
  },
  {
   "cell_type": "code",
   "execution_count": 43,
   "metadata": {},
   "outputs": [],
   "source": [
    "est_2 = (\n",
    "    est_data_revised.head(100)\n",
    "    .set_index(['security_id', 'broker_id', 'period_date'])\n",
    "    .groupby(['security_id', 'broker_id', 'period_date'])\n",
    "    .apply(\n",
    "        lambda df: df.drop_duplicates('estimate_date')\n",
    "                     .set_index('estimate_date')\n",
    "                     .resample('D')\n",
    "                     .ffill()\n",
    "    )\n",
    ")"
   ]
  },
  {
   "cell_type": "code",
   "execution_count": 44,
   "metadata": {},
   "outputs": [],
   "source": [
    "est_gp = (est_2\n",
    "          .reset_index('estimate_date')\n",
    "          .groupby(['security_id', \n",
    "                    'broker_id', \n",
    "                    'period_date'])\n",
    "         )"
   ]
  },
  {
   "cell_type": "code",
   "execution_count": 2,
   "metadata": {},
   "outputs": [
    {
     "ename": "NameError",
     "evalue": "name 'est_2' is not defined",
     "output_type": "error",
     "traceback": [
      "\u001b[1;31m---------------------------------------------------------------------------\u001b[0m",
      "\u001b[1;31mNameError\u001b[0m                                 Traceback (most recent call last)",
      "\u001b[1;32m<ipython-input-2-8f115dbe5ece>\u001b[0m in \u001b[0;36m<module>\u001b[1;34m\u001b[0m\n\u001b[1;32m----> 1\u001b[1;33m \u001b[1;32mfor\u001b[0m \u001b[0mgp_name\u001b[0m\u001b[1;33m,\u001b[0m \u001b[0mgp_df\u001b[0m \u001b[1;32min\u001b[0m \u001b[0mest_2\u001b[0m\u001b[1;33m.\u001b[0m\u001b[0mgroupby\u001b[0m\u001b[1;33m(\u001b[0m\u001b[1;33m[\u001b[0m\u001b[1;34m'security_id'\u001b[0m\u001b[1;33m,\u001b[0m \u001b[1;34m'broker_id'\u001b[0m\u001b[1;33m,\u001b[0m \u001b[1;34m'period_date'\u001b[0m\u001b[1;33m]\u001b[0m\u001b[1;33m)\u001b[0m\u001b[1;33m:\u001b[0m\u001b[1;33m\u001b[0m\u001b[1;33m\u001b[0m\u001b[0m\n\u001b[0m\u001b[0;32m      2\u001b[0m     changes = (gp_df.value[lag_tol:]\n\u001b[0;32m      3\u001b[0m                \u001b[1;33m.\u001b[0m\u001b[0msubtract\u001b[0m\u001b[1;33m(\u001b[0m\u001b[0mgp_df\u001b[0m\u001b[1;33m.\u001b[0m\u001b[0mvalue\u001b[0m\u001b[1;33m[\u001b[0m\u001b[1;33m:\u001b[0m\u001b[1;33m(\u001b[0m\u001b[1;33m-\u001b[0m\u001b[0mlag_tol\u001b[0m\u001b[1;33m)\u001b[0m\u001b[1;33m]\u001b[0m\u001b[1;33m)\u001b[0m\u001b[1;33m\u001b[0m\u001b[1;33m\u001b[0m\u001b[0m\n\u001b[0;32m      4\u001b[0m                \u001b[1;33m.\u001b[0m\u001b[0mfillna\u001b[0m\u001b[1;33m(\u001b[0m\u001b[1;36m0\u001b[0m\u001b[1;33m)\u001b[0m\u001b[1;33m\u001b[0m\u001b[1;33m\u001b[0m\u001b[0m\n\u001b[0;32m      5\u001b[0m               )\n",
      "\u001b[1;31mNameError\u001b[0m: name 'est_2' is not defined"
     ]
    }
   ],
   "source": [
    "for gp_name, gp_df in est_2.groupby(['security_id', 'broker_id', 'period_date']):\n",
    "    changes = (gp_df.value[lag_tol:]\n",
    "               .subtract(gp_df.value[:(-lag_tol)])\n",
    "               .fillna(0)\n",
    "              )\n",
    "    gp_df.assign()"
   ]
  },
  {
   "cell_type": "code",
   "execution_count": 38,
   "metadata": {},
   "outputs": [
    {
     "data": {
      "text/html": [
       "<div>\n",
       "<style scoped>\n",
       "    .dataframe tbody tr th:only-of-type {\n",
       "        vertical-align: middle;\n",
       "    }\n",
       "\n",
       "    .dataframe tbody tr th {\n",
       "        vertical-align: top;\n",
       "    }\n",
       "\n",
       "    .dataframe thead th {\n",
       "        text-align: right;\n",
       "    }\n",
       "</style>\n",
       "<table border=\"1\" class=\"dataframe\">\n",
       "  <thead>\n",
       "    <tr style=\"text-align: right;\">\n",
       "      <th></th>\n",
       "      <th></th>\n",
       "      <th></th>\n",
       "      <th>estimate_date</th>\n",
       "      <th>value</th>\n",
       "    </tr>\n",
       "    <tr>\n",
       "      <th>security_id</th>\n",
       "      <th>broker_id</th>\n",
       "      <th>period_date</th>\n",
       "      <th></th>\n",
       "      <th></th>\n",
       "    </tr>\n",
       "  </thead>\n",
       "  <tbody>\n",
       "    <tr>\n",
       "      <th rowspan=\"11\" valign=\"top\">30064771087</th>\n",
       "      <th rowspan=\"5\" valign=\"top\">-2084193872</th>\n",
       "      <th>2020-08-31</th>\n",
       "      <td>NaN</td>\n",
       "      <td>NaN</td>\n",
       "    </tr>\n",
       "    <tr>\n",
       "      <th>2020-08-31</th>\n",
       "      <td>NaN</td>\n",
       "      <td>NaN</td>\n",
       "    </tr>\n",
       "    <tr>\n",
       "      <th>2020-08-31</th>\n",
       "      <td>NaN</td>\n",
       "      <td>NaN</td>\n",
       "    </tr>\n",
       "    <tr>\n",
       "      <th>2020-08-31</th>\n",
       "      <td>NaN</td>\n",
       "      <td>NaN</td>\n",
       "    </tr>\n",
       "    <tr>\n",
       "      <th>2020-08-31</th>\n",
       "      <td>NaN</td>\n",
       "      <td>NaN</td>\n",
       "    </tr>\n",
       "    <tr>\n",
       "      <th>...</th>\n",
       "      <th>...</th>\n",
       "      <td>...</td>\n",
       "      <td>...</td>\n",
       "    </tr>\n",
       "    <tr>\n",
       "      <th rowspan=\"5\" valign=\"top\">-1107032655</th>\n",
       "      <th>2021-08-31</th>\n",
       "      <td>NaN</td>\n",
       "      <td>NaN</td>\n",
       "    </tr>\n",
       "    <tr>\n",
       "      <th>2021-08-31</th>\n",
       "      <td>NaN</td>\n",
       "      <td>NaN</td>\n",
       "    </tr>\n",
       "    <tr>\n",
       "      <th>2021-08-31</th>\n",
       "      <td>NaN</td>\n",
       "      <td>NaN</td>\n",
       "    </tr>\n",
       "    <tr>\n",
       "      <th>2021-08-31</th>\n",
       "      <td>NaN</td>\n",
       "      <td>NaN</td>\n",
       "    </tr>\n",
       "    <tr>\n",
       "      <th>2021-08-31</th>\n",
       "      <td>NaN</td>\n",
       "      <td>NaN</td>\n",
       "    </tr>\n",
       "  </tbody>\n",
       "</table>\n",
       "<p>5626 rows × 2 columns</p>\n",
       "</div>"
      ],
      "text/plain": [
       "                                    estimate_date value\n",
       "security_id broker_id   period_date                    \n",
       "30064771087 -2084193872 2020-08-31            NaN   NaN\n",
       "                        2020-08-31            NaN   NaN\n",
       "                        2020-08-31            NaN   NaN\n",
       "                        2020-08-31            NaN   NaN\n",
       "                        2020-08-31            NaN   NaN\n",
       "...                                           ...   ...\n",
       "            -1107032655 2021-08-31            NaN   NaN\n",
       "                        2021-08-31            NaN   NaN\n",
       "                        2021-08-31            NaN   NaN\n",
       "                        2021-08-31            NaN   NaN\n",
       "                        2021-08-31            NaN   NaN\n",
       "\n",
       "[5626 rows x 2 columns]"
      ]
     },
     "execution_count": 38,
     "metadata": {},
     "output_type": "execute_result"
    }
   ],
   "source": [
    "change_df"
   ]
  }
 ],
 "metadata": {
  "kernelspec": {
   "display_name": "Python 3.7.7 64-bit",
   "language": "python",
   "name": "python37764bitdabd9e4a2d5d4040bc1170cd428d0e0e"
  },
  "language_info": {
   "codemirror_mode": {
    "name": "ipython",
    "version": 3
   },
   "file_extension": ".py",
   "mimetype": "text/x-python",
   "name": "python",
   "nbconvert_exporter": "python",
   "pygments_lexer": "ipython3",
   "version": "3.7.7"
  }
 },
 "nbformat": 4,
 "nbformat_minor": 4
}
